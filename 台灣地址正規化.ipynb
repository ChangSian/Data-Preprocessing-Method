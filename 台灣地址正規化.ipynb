{
  "nbformat": 4,
  "nbformat_minor": 0,
  "metadata": {
    "colab": {
      "name": "台灣地址正規化.ipynb",
      "provenance": [],
      "collapsed_sections": [],
      "mount_file_id": "1IPWSvhIeguYN5CZJbdzjg7B9HQxBV6_v",
      "authorship_tag": "ABX9TyPq1B4rClFDFoK38rb+Lsos",
      "include_colab_link": true
    },
    "kernelspec": {
      "name": "python3",
      "display_name": "Python 3"
    }
  },
  "cells": [
    {
      "cell_type": "markdown",
      "metadata": {
        "id": "view-in-github",
        "colab_type": "text"
      },
      "source": [
        "<a href=\"https://colab.research.google.com/github/changsian/Data-Preprocessing-Method/blob/main/%E5%8F%B0%E7%81%A3%E5%9C%B0%E5%9D%80%E6%AD%A3%E8%A6%8F%E5%8C%96.ipynb\" target=\"_parent\"><img src=\"https://colab.research.google.com/assets/colab-badge.svg\" alt=\"Open In Colab\"/></a>"
      ]
    },
    {
      "cell_type": "markdown",
      "metadata": {
        "id": "5nlVJt2QiElb"
      },
      "source": [
        "# 資料來源\n",
        "\n",
        "\n",
        "---\n",
        "上市公司基本資料: https://data.gov.tw/dataset/18419  \n",
        "上櫃股票基本資料: https://data.gov.tw/dataset/25036\n",
        "\n"
      ]
    },
    {
      "cell_type": "code",
      "metadata": {
        "id": "s204D9O-6rE-"
      },
      "source": [
        "import numpy as np # linear algebra\n",
        "import pandas as pd\n",
        "import re"
      ],
      "execution_count": 2,
      "outputs": []
    },
    {
      "cell_type": "code",
      "metadata": {
        "id": "f7Z1i0ol8S4B"
      },
      "source": [
        "df1 = pd.read_csv('/content/drive/MyDrive/Colab Notebooks/Data Preprocess/台灣地址正規化/上市公司基本資料20201106.csv')\n",
        "df2 = pd.read_csv('/content/drive/MyDrive/Colab Notebooks/Data Preprocess/台灣地址正規化/上櫃股票基本資料20201203.csv')"
      ],
      "execution_count": 3,
      "outputs": []
    },
    {
      "cell_type": "code",
      "metadata": {
        "id": "fGJ-ZNum9M3o"
      },
      "source": [
        "text = df1[\"住址\"][958]"
      ],
      "execution_count": 16,
      "outputs": []
    },
    {
      "cell_type": "code",
      "metadata": {
        "colab": {
          "base_uri": "https://localhost:8080/",
          "height": 35
        },
        "id": "rCAvAsT_-QI8",
        "outputId": "c282ec21-7885-4fd7-f2f6-14facc05a0d2"
      },
      "source": [
        "text"
      ],
      "execution_count": 17,
      "outputs": [
        {
          "output_type": "execute_result",
          "data": {
            "application/vnd.google.colaboratory.intrinsic+json": {
              "type": "string"
            },
            "text/plain": [
              "'台北市松山區八德路3段30號12樓'"
            ]
          },
          "metadata": {
            "tags": []
          },
          "execution_count": 17
        }
      ]
    },
    {
      "cell_type": "markdown",
      "metadata": {
        "id": "J-7WhkLNIvsl"
      },
      "source": [
        "# 縣市"
      ]
    },
    {
      "cell_type": "code",
      "metadata": {
        "id": "Y6xIoAUsLME6"
      },
      "source": [
        "if re.search(r'\\D+[縣]',text) is not None :\n",
        "    city = re.split(r'[縣]', text, maxsplit=0, flags=0)[0]+'縣'\n",
        "    text = re.split(r'[縣]', text, maxsplit=0, flags=0)[1]\n",
        "elif re.search(r'\\D+[市]',text) is not None :\n",
        "    city = re.split(r'[市]', text, maxsplit=0, flags=0)[0]+'市'\n",
        "    text = re.split(r'[市]', text, maxsplit=0, flags=0)[1]\n",
        "else:\n",
        "    text = text"
      ],
      "execution_count": 21,
      "outputs": []
    },
    {
      "cell_type": "code",
      "metadata": {
        "colab": {
          "base_uri": "https://localhost:8080/",
          "height": 35
        },
        "id": "UHl72fzrPyfN",
        "outputId": "0ed0ed85-bb67-4147-fc6b-c6962a0ddc2e"
      },
      "source": [
        "city"
      ],
      "execution_count": 22,
      "outputs": [
        {
          "output_type": "execute_result",
          "data": {
            "application/vnd.google.colaboratory.intrinsic+json": {
              "type": "string"
            },
            "text/plain": [
              "'台北市'"
            ]
          },
          "metadata": {
            "tags": []
          },
          "execution_count": 22
        }
      ]
    },
    {
      "cell_type": "code",
      "metadata": {
        "colab": {
          "base_uri": "https://localhost:8080/",
          "height": 35
        },
        "id": "hsyNADLkPgCZ",
        "outputId": "9fae6209-7a54-4864-d94d-bac537c83601"
      },
      "source": [
        "text"
      ],
      "execution_count": 23,
      "outputs": [
        {
          "output_type": "execute_result",
          "data": {
            "application/vnd.google.colaboratory.intrinsic+json": {
              "type": "string"
            },
            "text/plain": [
              "'松山區八德路3段30號12樓'"
            ]
          },
          "metadata": {
            "tags": []
          },
          "execution_count": 23
        }
      ]
    },
    {
      "cell_type": "markdown",
      "metadata": {
        "id": "Q1xq-XyCI0qf"
      },
      "source": [
        "# 鄉鎮市區"
      ]
    },
    {
      "cell_type": "code",
      "metadata": {
        "id": "-UUZ_ixEO8pL"
      },
      "source": [
        "if re.search(r'\\D+[鄉]',text) is not None :\n",
        "    district = re.split(r'[鄉]', text, maxsplit=0, flags=0)[0]+'鄉'\n",
        "    text = re.split(r'[鄉]', text, maxsplit=0, flags=0)[1]\n",
        "elif re.search(r'\\D+[鎮]',text) is not None :\n",
        "    district = re.split(r'[鎮]', text, maxsplit=0, flags=0)[0]+'鎮'\n",
        "    text = re.split(r'[鎮]', text, maxsplit=0, flags=0)[1]\n",
        "elif re.search(r'\\D+[區]',text) is not None :\n",
        "    district = re.split(r'[區]', text, maxsplit=0, flags=0)[0]+'區'\n",
        "    text = re.split(r'[區]', text, maxsplit=0, flags=0)[1]\n",
        "elif re.search(r'\\D+[市]',text) is not None :\n",
        "    district = re.split(r'[市]', text, maxsplit=0, flags=0)[0]+'市'\n",
        "    text = re.split(r'[市]', text, maxsplit=0, flags=0)[1]\n",
        "else:\n",
        "    text = text"
      ],
      "execution_count": 24,
      "outputs": []
    },
    {
      "cell_type": "code",
      "metadata": {
        "colab": {
          "base_uri": "https://localhost:8080/",
          "height": 35
        },
        "id": "3iga3iSJP7Qj",
        "outputId": "d8ddd97f-4290-411a-cdd8-059eb7b5b511"
      },
      "source": [
        "district"
      ],
      "execution_count": 25,
      "outputs": [
        {
          "output_type": "execute_result",
          "data": {
            "application/vnd.google.colaboratory.intrinsic+json": {
              "type": "string"
            },
            "text/plain": [
              "'松山區'"
            ]
          },
          "metadata": {
            "tags": []
          },
          "execution_count": 25
        }
      ]
    },
    {
      "cell_type": "code",
      "metadata": {
        "colab": {
          "base_uri": "https://localhost:8080/",
          "height": 35
        },
        "id": "8Pt4b9a8P8TG",
        "outputId": "b41a99c1-f936-4205-9487-5b310370a8af"
      },
      "source": [
        "text"
      ],
      "execution_count": 26,
      "outputs": [
        {
          "output_type": "execute_result",
          "data": {
            "application/vnd.google.colaboratory.intrinsic+json": {
              "type": "string"
            },
            "text/plain": [
              "'八德路3段30號12樓'"
            ]
          },
          "metadata": {
            "tags": []
          },
          "execution_count": 26
        }
      ]
    },
    {
      "cell_type": "markdown",
      "metadata": {
        "id": "Mi_e5FAWI9Jr"
      },
      "source": [
        "# 村里"
      ]
    },
    {
      "cell_type": "code",
      "metadata": {
        "id": "pnnVmD-qQFLM"
      },
      "source": [
        "if re.search(r'\\D+[村]',text) is not None :\n",
        "    country = re.split(r'[村]', text, maxsplit=0, flags=0)[0]+'村'\n",
        "    text = re.split(r'[村]', text, maxsplit=0, flags=0)[1]\n",
        "elif re.search(r'\\D+[里]]',text) is not None :\n",
        "    country = re.split(r'[里]', text, maxsplit=0, flags=0)[0]+'里'\n",
        "    text = re.split(r'[里]', text, maxsplit=0, flags=0)[1]\n",
        "else:\n",
        "    text = text"
      ],
      "execution_count": 30,
      "outputs": []
    },
    {
      "cell_type": "code",
      "metadata": {
        "colab": {
          "base_uri": "https://localhost:8080/",
          "height": 168
        },
        "id": "AJeEX--7QUhM",
        "outputId": "ee3a55e9-a57a-49c7-d6aa-54150cd1b663"
      },
      "source": [
        "country"
      ],
      "execution_count": 31,
      "outputs": [
        {
          "output_type": "error",
          "ename": "NameError",
          "evalue": "ignored",
          "traceback": [
            "\u001b[0;31m---------------------------------------------------------------------------\u001b[0m",
            "\u001b[0;31mNameError\u001b[0m                                 Traceback (most recent call last)",
            "\u001b[0;32m<ipython-input-31-e1a04519cff7>\u001b[0m in \u001b[0;36m<module>\u001b[0;34m()\u001b[0m\n\u001b[0;32m----> 1\u001b[0;31m \u001b[0mcountry\u001b[0m\u001b[0;34m\u001b[0m\u001b[0;34m\u001b[0m\u001b[0m\n\u001b[0m",
            "\u001b[0;31mNameError\u001b[0m: name 'country' is not defined"
          ]
        }
      ]
    },
    {
      "cell_type": "code",
      "metadata": {
        "colab": {
          "base_uri": "https://localhost:8080/",
          "height": 35
        },
        "id": "BQ8gt5zuQVe5",
        "outputId": "32a6417c-644e-476e-ffd3-f4ca90457f13"
      },
      "source": [
        "text"
      ],
      "execution_count": 32,
      "outputs": [
        {
          "output_type": "execute_result",
          "data": {
            "application/vnd.google.colaboratory.intrinsic+json": {
              "type": "string"
            },
            "text/plain": [
              "'八德路3段30號12樓'"
            ]
          },
          "metadata": {
            "tags": []
          },
          "execution_count": 32
        }
      ]
    },
    {
      "cell_type": "markdown",
      "metadata": {
        "id": "oijkqMTeJa7b"
      },
      "source": [
        "# 鄰"
      ]
    },
    {
      "cell_type": "code",
      "metadata": {
        "id": "wuQDYNOkIqY8"
      },
      "source": [
        "if re.search(r'\\D+[鄰]',text) is not None :\n",
        "    block = re.split(r'[鄰]', text, maxsplit=0, flags=0)[0]+'鄰'\n",
        "    text = re.split(r'[鄰]', text, maxsplit=0, flags=0)[1]\n",
        "else:\n",
        "    text = text"
      ],
      "execution_count": 33,
      "outputs": []
    },
    {
      "cell_type": "code",
      "metadata": {
        "colab": {
          "base_uri": "https://localhost:8080/",
          "height": 168
        },
        "id": "ISQtQJiLLoZP",
        "outputId": "2a299cc6-1d2d-4e4b-877e-2f3310117c62"
      },
      "source": [
        "block"
      ],
      "execution_count": 34,
      "outputs": [
        {
          "output_type": "error",
          "ename": "NameError",
          "evalue": "ignored",
          "traceback": [
            "\u001b[0;31m---------------------------------------------------------------------------\u001b[0m",
            "\u001b[0;31mNameError\u001b[0m                                 Traceback (most recent call last)",
            "\u001b[0;32m<ipython-input-34-5fcbd1e0e617>\u001b[0m in \u001b[0;36m<module>\u001b[0;34m()\u001b[0m\n\u001b[0;32m----> 1\u001b[0;31m \u001b[0mblock\u001b[0m\u001b[0;34m\u001b[0m\u001b[0;34m\u001b[0m\u001b[0m\n\u001b[0m",
            "\u001b[0;31mNameError\u001b[0m: name 'block' is not defined"
          ]
        }
      ]
    },
    {
      "cell_type": "code",
      "metadata": {
        "colab": {
          "base_uri": "https://localhost:8080/",
          "height": 35
        },
        "id": "A9FNWNrpLo0Q",
        "outputId": "9f472fcc-deee-4745-e5de-61f05a3f4053"
      },
      "source": [
        "text"
      ],
      "execution_count": 35,
      "outputs": [
        {
          "output_type": "execute_result",
          "data": {
            "application/vnd.google.colaboratory.intrinsic+json": {
              "type": "string"
            },
            "text/plain": [
              "'八德路3段30號12樓'"
            ]
          },
          "metadata": {
            "tags": []
          },
          "execution_count": 35
        }
      ]
    },
    {
      "cell_type": "markdown",
      "metadata": {
        "id": "pFWv7xzgJqqs"
      },
      "source": [
        "# 大道, 路, 街"
      ]
    },
    {
      "cell_type": "code",
      "metadata": {
        "id": "QMcG3fdfJzKC"
      },
      "source": [
        "if re.search(r'\\D+[大道]',text) is not None :\n",
        "    road1 = re.split(r'[大道]', text, maxsplit=0, flags=0)[0]+'大道'\n",
        "    text = re.split(r'[大道]', text, maxsplit=0, flags=0)[1]\n",
        "elif re.search(r'\\D+[路]',text) is not None :\n",
        "    road1 = re.split(r'[路]', text, maxsplit=0, flags=0)[0]+'路'\n",
        "    text = re.split(r'[路]', text, maxsplit=0, flags=0)[1]\n",
        "elif re.search(r'\\D+[街]',text) is not None :\n",
        "    road1 = re.split(r'[街]', text, maxsplit=0, flags=0)[0]+'街'\n",
        "    text = re.split(r'[街]', text, maxsplit=0, flags=0)[1]\n",
        "else:\n",
        "    text = text"
      ],
      "execution_count": 36,
      "outputs": []
    },
    {
      "cell_type": "code",
      "metadata": {
        "colab": {
          "base_uri": "https://localhost:8080/",
          "height": 35
        },
        "id": "PTUrF00fLrGQ",
        "outputId": "3c7a1fde-4cc9-471d-b285-799396c77091"
      },
      "source": [
        "road1"
      ],
      "execution_count": 37,
      "outputs": [
        {
          "output_type": "execute_result",
          "data": {
            "application/vnd.google.colaboratory.intrinsic+json": {
              "type": "string"
            },
            "text/plain": [
              "'八德路'"
            ]
          },
          "metadata": {
            "tags": []
          },
          "execution_count": 37
        }
      ]
    },
    {
      "cell_type": "code",
      "metadata": {
        "colab": {
          "base_uri": "https://localhost:8080/",
          "height": 35
        },
        "id": "SdkN_ipALsCG",
        "outputId": "9da7f906-fe0d-48ca-c699-6f942253d007"
      },
      "source": [
        "text"
      ],
      "execution_count": 38,
      "outputs": [
        {
          "output_type": "execute_result",
          "data": {
            "application/vnd.google.colaboratory.intrinsic+json": {
              "type": "string"
            },
            "text/plain": [
              "'3段30號12樓'"
            ]
          },
          "metadata": {
            "tags": []
          },
          "execution_count": 38
        }
      ]
    },
    {
      "cell_type": "markdown",
      "metadata": {
        "id": "m5iQlPCRKTJp"
      },
      "source": [
        "# 段"
      ]
    },
    {
      "cell_type": "code",
      "metadata": {
        "id": "hRz48KCiKWJR"
      },
      "source": [
        "if re.search(r'\\w+[段]',text) is not None :\n",
        "    road2 = re.split(r'[段]', text, maxsplit=0, flags=0)[0]+'段'\n",
        "    text = re.split(r'[段]', text, maxsplit=0, flags=0)[1]\n",
        "else:\n",
        "    text = text"
      ],
      "execution_count": 42,
      "outputs": []
    },
    {
      "cell_type": "code",
      "metadata": {
        "colab": {
          "base_uri": "https://localhost:8080/",
          "height": 35
        },
        "id": "zvFlKwkcLtKd",
        "outputId": "c37f5684-304f-4372-b415-34d5029d3ed3"
      },
      "source": [
        "road2"
      ],
      "execution_count": 43,
      "outputs": [
        {
          "output_type": "execute_result",
          "data": {
            "application/vnd.google.colaboratory.intrinsic+json": {
              "type": "string"
            },
            "text/plain": [
              "'3段'"
            ]
          },
          "metadata": {
            "tags": []
          },
          "execution_count": 43
        }
      ]
    },
    {
      "cell_type": "code",
      "metadata": {
        "colab": {
          "base_uri": "https://localhost:8080/",
          "height": 35
        },
        "id": "ffX6_Tm_LuGY",
        "outputId": "447114f1-9436-4a1a-bb8c-81ecd5b6734f"
      },
      "source": [
        "text"
      ],
      "execution_count": 44,
      "outputs": [
        {
          "output_type": "execute_result",
          "data": {
            "application/vnd.google.colaboratory.intrinsic+json": {
              "type": "string"
            },
            "text/plain": [
              "'30號12樓'"
            ]
          },
          "metadata": {
            "tags": []
          },
          "execution_count": 44
        }
      ]
    },
    {
      "cell_type": "markdown",
      "metadata": {
        "id": "wmJxjgptKlHX"
      },
      "source": [
        "# 巷"
      ]
    },
    {
      "cell_type": "code",
      "metadata": {
        "id": "fshxEzO7Kn-e"
      },
      "source": [
        "if re.search(r'\\w+[巷]',text) is not None :\n",
        "    road3 = re.split(r'[巷]', text, maxsplit=0, flags=0)[0]+'巷'\n",
        "    text = re.split(r'[巷]', text, maxsplit=0, flags=0)[1]\n",
        "else:\n",
        "    text = text"
      ],
      "execution_count": 46,
      "outputs": []
    },
    {
      "cell_type": "code",
      "metadata": {
        "colab": {
          "base_uri": "https://localhost:8080/",
          "height": 168
        },
        "id": "wAGbsDCiLvmU",
        "outputId": "403e6e42-5e0d-4632-f621-2f36798dfc29"
      },
      "source": [
        "road3"
      ],
      "execution_count": 47,
      "outputs": [
        {
          "output_type": "error",
          "ename": "NameError",
          "evalue": "ignored",
          "traceback": [
            "\u001b[0;31m---------------------------------------------------------------------------\u001b[0m",
            "\u001b[0;31mNameError\u001b[0m                                 Traceback (most recent call last)",
            "\u001b[0;32m<ipython-input-47-8464a144181e>\u001b[0m in \u001b[0;36m<module>\u001b[0;34m()\u001b[0m\n\u001b[0;32m----> 1\u001b[0;31m \u001b[0mroad3\u001b[0m\u001b[0;34m\u001b[0m\u001b[0;34m\u001b[0m\u001b[0m\n\u001b[0m",
            "\u001b[0;31mNameError\u001b[0m: name 'road3' is not defined"
          ]
        }
      ]
    },
    {
      "cell_type": "code",
      "metadata": {
        "colab": {
          "base_uri": "https://localhost:8080/",
          "height": 35
        },
        "id": "DEjDHZ8lLwjA",
        "outputId": "ac3b2637-50c6-4002-eb50-dd2ef17fb2df"
      },
      "source": [
        "text"
      ],
      "execution_count": 48,
      "outputs": [
        {
          "output_type": "execute_result",
          "data": {
            "application/vnd.google.colaboratory.intrinsic+json": {
              "type": "string"
            },
            "text/plain": [
              "'30號12樓'"
            ]
          },
          "metadata": {
            "tags": []
          },
          "execution_count": 48
        }
      ]
    },
    {
      "cell_type": "markdown",
      "metadata": {
        "id": "4NtpJnVWKxaZ"
      },
      "source": [
        "# 弄"
      ]
    },
    {
      "cell_type": "code",
      "metadata": {
        "id": "qzy2resLKvY0"
      },
      "source": [
        "if re.search(r'\\w+[弄]',text) is not None :\n",
        "    road4 = re.split(r'[弄]', text, maxsplit=0, flags=0)[0]+'弄'\n",
        "    text = re.split(r'[弄]', text, maxsplit=0, flags=0)[1]\n",
        "else:\n",
        "    text = text"
      ],
      "execution_count": 49,
      "outputs": []
    },
    {
      "cell_type": "code",
      "metadata": {
        "colab": {
          "base_uri": "https://localhost:8080/",
          "height": 168
        },
        "id": "niCThhkSLyWi",
        "outputId": "675fe052-5be7-42a5-ab49-082126bf24fa"
      },
      "source": [
        "road4"
      ],
      "execution_count": 50,
      "outputs": [
        {
          "output_type": "error",
          "ename": "NameError",
          "evalue": "ignored",
          "traceback": [
            "\u001b[0;31m---------------------------------------------------------------------------\u001b[0m",
            "\u001b[0;31mNameError\u001b[0m                                 Traceback (most recent call last)",
            "\u001b[0;32m<ipython-input-50-30892b4ba2a1>\u001b[0m in \u001b[0;36m<module>\u001b[0;34m()\u001b[0m\n\u001b[0;32m----> 1\u001b[0;31m \u001b[0mroad4\u001b[0m\u001b[0;34m\u001b[0m\u001b[0;34m\u001b[0m\u001b[0m\n\u001b[0m",
            "\u001b[0;31mNameError\u001b[0m: name 'road4' is not defined"
          ]
        }
      ]
    },
    {
      "cell_type": "code",
      "metadata": {
        "colab": {
          "base_uri": "https://localhost:8080/",
          "height": 35
        },
        "id": "dpWjHriALztn",
        "outputId": "9b774881-6339-4c8f-8f30-18cee95a5dbc"
      },
      "source": [
        "text"
      ],
      "execution_count": 51,
      "outputs": [
        {
          "output_type": "execute_result",
          "data": {
            "application/vnd.google.colaboratory.intrinsic+json": {
              "type": "string"
            },
            "text/plain": [
              "'30號12樓'"
            ]
          },
          "metadata": {
            "tags": []
          },
          "execution_count": 51
        }
      ]
    },
    {
      "cell_type": "markdown",
      "metadata": {
        "id": "_m3fLcmQK7ub"
      },
      "source": [
        "# 衖"
      ]
    },
    {
      "cell_type": "code",
      "metadata": {
        "id": "H6rTwz4tK7MR"
      },
      "source": [
        "if re.search(r'\\w+[衖]',text) is not None :\n",
        "    road5 = re.split(r'[衖]', text, maxsplit=0, flags=0)[0]+'衖'\n",
        "    text = re.split(r'[衖]', text, maxsplit=0, flags=0)[1]\n",
        "else:\n",
        "    text = text"
      ],
      "execution_count": 52,
      "outputs": []
    },
    {
      "cell_type": "code",
      "metadata": {
        "colab": {
          "base_uri": "https://localhost:8080/",
          "height": 168
        },
        "id": "545KGt-5L0sg",
        "outputId": "a0c3e4bc-7748-4bd2-a589-fe8ffeed4362"
      },
      "source": [
        "road5"
      ],
      "execution_count": 53,
      "outputs": [
        {
          "output_type": "error",
          "ename": "NameError",
          "evalue": "ignored",
          "traceback": [
            "\u001b[0;31m---------------------------------------------------------------------------\u001b[0m",
            "\u001b[0;31mNameError\u001b[0m                                 Traceback (most recent call last)",
            "\u001b[0;32m<ipython-input-53-0761c4e78a9b>\u001b[0m in \u001b[0;36m<module>\u001b[0;34m()\u001b[0m\n\u001b[0;32m----> 1\u001b[0;31m \u001b[0mroad5\u001b[0m\u001b[0;34m\u001b[0m\u001b[0;34m\u001b[0m\u001b[0m\n\u001b[0m",
            "\u001b[0;31mNameError\u001b[0m: name 'road5' is not defined"
          ]
        }
      ]
    },
    {
      "cell_type": "code",
      "metadata": {
        "colab": {
          "base_uri": "https://localhost:8080/",
          "height": 35
        },
        "id": "NfqSQc4yL2GV",
        "outputId": "c690cb37-cc65-4e2a-d0cd-954fabfc08c3"
      },
      "source": [
        "text"
      ],
      "execution_count": 54,
      "outputs": [
        {
          "output_type": "execute_result",
          "data": {
            "application/vnd.google.colaboratory.intrinsic+json": {
              "type": "string"
            },
            "text/plain": [
              "'30號12樓'"
            ]
          },
          "metadata": {
            "tags": []
          },
          "execution_count": 54
        }
      ]
    },
    {
      "cell_type": "markdown",
      "metadata": {
        "id": "zqvisKecLKj7"
      },
      "source": [
        "# 號"
      ]
    },
    {
      "cell_type": "code",
      "metadata": {
        "id": "x4iIXuAlLHss"
      },
      "source": [
        "if re.search(r'\\w+[號]',text) is not None :\n",
        "    no1 = re.split(r'[號]', text, maxsplit=0, flags=0)[0]+'號'\n",
        "    text = re.split(r'[號]', text, maxsplit=0, flags=0)[1]\n",
        "else:\n",
        "    text = text"
      ],
      "execution_count": 55,
      "outputs": []
    },
    {
      "cell_type": "code",
      "metadata": {
        "colab": {
          "base_uri": "https://localhost:8080/",
          "height": 35
        },
        "id": "MVUhs-WyL3L3",
        "outputId": "d954ff5d-3514-4151-b886-1fcfbdfeea0f"
      },
      "source": [
        "no1"
      ],
      "execution_count": 56,
      "outputs": [
        {
          "output_type": "execute_result",
          "data": {
            "application/vnd.google.colaboratory.intrinsic+json": {
              "type": "string"
            },
            "text/plain": [
              "'30號'"
            ]
          },
          "metadata": {
            "tags": []
          },
          "execution_count": 56
        }
      ]
    },
    {
      "cell_type": "code",
      "metadata": {
        "colab": {
          "base_uri": "https://localhost:8080/",
          "height": 35
        },
        "id": "rx-Ap_YeL4Fj",
        "outputId": "c1af2ad5-fe24-471f-d0c1-4bbb87993250"
      },
      "source": [
        "text"
      ],
      "execution_count": 57,
      "outputs": [
        {
          "output_type": "execute_result",
          "data": {
            "application/vnd.google.colaboratory.intrinsic+json": {
              "type": "string"
            },
            "text/plain": [
              "'12樓'"
            ]
          },
          "metadata": {
            "tags": []
          },
          "execution_count": 57
        }
      ]
    },
    {
      "cell_type": "markdown",
      "metadata": {
        "id": "8KEBq4v8LSiO"
      },
      "source": [
        "# 樓"
      ]
    },
    {
      "cell_type": "code",
      "metadata": {
        "id": "jj_46XqQLU8F"
      },
      "source": [
        "if re.search(r'\\w+[樓]',text) is not None :\n",
        "    no2 = re.split(r'[樓]', text, maxsplit=0, flags=0)[0]+'樓'\n",
        "    text = re.split(r'[樓]', text, maxsplit=0, flags=0)[1]\n",
        "else:\n",
        "    text = text"
      ],
      "execution_count": 58,
      "outputs": []
    },
    {
      "cell_type": "code",
      "metadata": {
        "colab": {
          "base_uri": "https://localhost:8080/",
          "height": 35
        },
        "id": "QSu6M2gDL5Sa",
        "outputId": "7313fdd1-027d-40e4-ce99-58566727c7c9"
      },
      "source": [
        "no2"
      ],
      "execution_count": 59,
      "outputs": [
        {
          "output_type": "execute_result",
          "data": {
            "application/vnd.google.colaboratory.intrinsic+json": {
              "type": "string"
            },
            "text/plain": [
              "'12樓'"
            ]
          },
          "metadata": {
            "tags": []
          },
          "execution_count": 59
        }
      ]
    },
    {
      "cell_type": "code",
      "metadata": {
        "colab": {
          "base_uri": "https://localhost:8080/",
          "height": 35
        },
        "id": "LLOGmLT_L6vS",
        "outputId": "4989a28c-cc99-4530-c4b1-5ae469e5b935"
      },
      "source": [
        "text"
      ],
      "execution_count": 60,
      "outputs": [
        {
          "output_type": "execute_result",
          "data": {
            "application/vnd.google.colaboratory.intrinsic+json": {
              "type": "string"
            },
            "text/plain": [
              "''"
            ]
          },
          "metadata": {
            "tags": []
          },
          "execution_count": 60
        }
      ]
    },
    {
      "cell_type": "markdown",
      "metadata": {
        "id": "3xDJVyTTLdRm"
      },
      "source": [
        "# 室"
      ]
    },
    {
      "cell_type": "code",
      "metadata": {
        "id": "H3Wm7IttLcqp"
      },
      "source": [
        "if re.search(r'\\w+[室]',text) is not None :\n",
        "    no3 = re.split(r'[室]', text, maxsplit=0, flags=0)[0]+'室'\n",
        "    text = re.split(r'[室]', text, maxsplit=0, flags=0)[1]\n",
        "else:\n",
        "    text = text"
      ],
      "execution_count": 61,
      "outputs": []
    },
    {
      "cell_type": "code",
      "metadata": {
        "colab": {
          "base_uri": "https://localhost:8080/",
          "height": 168
        },
        "id": "57G-ZJ-gL8Ml",
        "outputId": "d80e0558-eba5-4b9c-c181-bda575cd3656"
      },
      "source": [
        "no3"
      ],
      "execution_count": 62,
      "outputs": [
        {
          "output_type": "error",
          "ename": "NameError",
          "evalue": "ignored",
          "traceback": [
            "\u001b[0;31m---------------------------------------------------------------------------\u001b[0m",
            "\u001b[0;31mNameError\u001b[0m                                 Traceback (most recent call last)",
            "\u001b[0;32m<ipython-input-62-e60d35fc94bc>\u001b[0m in \u001b[0;36m<module>\u001b[0;34m()\u001b[0m\n\u001b[0;32m----> 1\u001b[0;31m \u001b[0mno3\u001b[0m\u001b[0;34m\u001b[0m\u001b[0;34m\u001b[0m\u001b[0m\n\u001b[0m",
            "\u001b[0;31mNameError\u001b[0m: name 'no3' is not defined"
          ]
        }
      ]
    },
    {
      "cell_type": "code",
      "metadata": {
        "colab": {
          "base_uri": "https://localhost:8080/",
          "height": 35
        },
        "id": "YubgwF2fi9k6",
        "outputId": "883eca28-f40a-4cb8-d780-f393f9c52768"
      },
      "source": [
        "text"
      ],
      "execution_count": 85,
      "outputs": [
        {
          "output_type": "execute_result",
          "data": {
            "application/vnd.google.colaboratory.intrinsic+json": {
              "type": "string"
            },
            "text/plain": [
              "''"
            ]
          },
          "metadata": {
            "tags": []
          },
          "execution_count": 85
        }
      ]
    },
    {
      "cell_type": "markdown",
      "metadata": {
        "id": "_f59EgAmgucA"
      },
      "source": [
        "# Summary"
      ]
    },
    {
      "cell_type": "code",
      "metadata": {
        "id": "E-61RfduWaoh"
      },
      "source": [
        "def address_re(data,k_col):\n",
        "\n",
        "  AddressPool = []\n",
        "\n",
        "  for i in range(len(data[k_col])):\n",
        "    text = data[k_col][i]\n",
        "    \n",
        "    # 縣市\n",
        "    if re.search(r'\\D+[縣]',text) is not None :\n",
        "        city = re.split(r'[縣]', text, maxsplit=0, flags=0)[0]+'縣'\n",
        "        text = re.split(r'[縣]', text, maxsplit=0, flags=0)[1]\n",
        "    elif re.search(r'\\D+[市]',text) is not None :\n",
        "        city = re.split(r'[市]', text, maxsplit=0, flags=0)[0]+'市'\n",
        "        text = re.split(r'[市]', text, maxsplit=0, flags=0)[1]\n",
        "    else:\n",
        "        city = ''\n",
        "        text = text\n",
        "\n",
        "    # 鄉鎮市區\n",
        "    if re.search(r'\\D+[鄉]',text) is not None :\n",
        "        district = re.split(r'[鄉]', text, maxsplit=0, flags=0)[0]+'鄉'\n",
        "        text = re.split(r'[鄉]', text, maxsplit=0, flags=0)[1]\n",
        "    elif re.search(r'\\D+[鎮]',text) is not None :\n",
        "        district = re.split(r'[鎮]', text, maxsplit=0, flags=0)[0]+'鎮'\n",
        "        text = re.split(r'[鎮]', text, maxsplit=0, flags=0)[1]\n",
        "    elif re.search(r'\\D+[區]',text) is not None :\n",
        "        district = re.split(r'[區]', text, maxsplit=0, flags=0)[0]+'區'\n",
        "        text = re.split(r'[區]', text, maxsplit=0, flags=0)[1]\n",
        "    elif re.search(r'\\D+[市]',text) is not None :\n",
        "        district = re.split(r'[市]', text, maxsplit=0, flags=0)[0]+'市'\n",
        "        text = re.split(r'[市]', text, maxsplit=0, flags=0)[1]\n",
        "    else:\n",
        "        district = ''\n",
        "        text = text\n",
        "\n",
        "    # 村里\n",
        "    if re.search(r'\\D+[村]',text) is not None :\n",
        "        country = re.split(r'[村]', text, maxsplit=0, flags=0)[0]+'村'\n",
        "        text = re.split(r'[村]', text, maxsplit=0, flags=0)[1]\n",
        "    elif re.search(r'\\D+[里]]',text) is not None :\n",
        "        country = re.split(r'[里]', text, maxsplit=0, flags=0)[0]+'里'\n",
        "        text = re.split(r'[里]', text, maxsplit=0, flags=0)[1]\n",
        "    else:\n",
        "        country = ''\n",
        "        text = text\n",
        "\n",
        "    # 鄰\n",
        "    if re.search(r'\\D+[鄰]',text) is not None :\n",
        "        block = re.split(r'[鄰]', text, maxsplit=0, flags=0)[0]+'鄰'\n",
        "        text = re.split(r'[鄰]', text, maxsplit=0, flags=0)[1]\n",
        "    else:\n",
        "        block = ''\n",
        "        text = text\n",
        "\n",
        "    # 大道, 路, 街\n",
        "    if re.search(r'\\D+[大道]',text) is not None :\n",
        "        road1 = re.split(r'[大道]', text, maxsplit=0, flags=0)[0]+'大道'\n",
        "        text = re.split(r'[大道]', text, maxsplit=0, flags=0)[1]\n",
        "    elif re.search(r'\\D+[路]',text) is not None :\n",
        "        road1 = re.split(r'[路]', text, maxsplit=0, flags=0)[0]+'路'\n",
        "        text = re.split(r'[路]', text, maxsplit=0, flags=0)[1]\n",
        "    elif re.search(r'\\D+[街]',text) is not None :\n",
        "        road1 = re.split(r'[街]', text, maxsplit=0, flags=0)[0]+'街'\n",
        "        text = re.split(r'[街]', text, maxsplit=0, flags=0)[1]\n",
        "    else:\n",
        "        road1 = ''\n",
        "        text = text\n",
        "\n",
        "    # 段\n",
        "    if re.search(r'\\w+[段]',text) is not None :\n",
        "        road2 = re.split(r'[段]', text, maxsplit=0, flags=0)[0]+'段'\n",
        "        text = re.split(r'[段]', text, maxsplit=0, flags=0)[1]\n",
        "    else:\n",
        "        road2 = ''\n",
        "        text = text\n",
        "\n",
        "    # 巷\n",
        "    if re.search(r'\\w+[巷]',text) is not None :\n",
        "        road3 = re.split(r'[巷]', text, maxsplit=0, flags=0)[0]+'巷'\n",
        "        text = re.split(r'[巷]', text, maxsplit=0, flags=0)[1]\n",
        "    else:\n",
        "        road3 = ''\n",
        "        text = text\n",
        "    \n",
        "    # 弄\n",
        "    if re.search(r'\\w+[弄]',text) is not None :\n",
        "        road4 = re.split(r'[弄]', text, maxsplit=0, flags=0)[0]+'弄'\n",
        "        text = re.split(r'[弄]', text, maxsplit=0, flags=0)[1]\n",
        "    else:\n",
        "        road4 = ''\n",
        "        text = text\n",
        "\n",
        "    # 衖\n",
        "    if re.search(r'\\w+[衖]',text) is not None :\n",
        "        road5 = re.split(r'[衖]', text, maxsplit=0, flags=0)[0]+'衖'\n",
        "        text = re.split(r'[衖]', text, maxsplit=0, flags=0)[1]\n",
        "    else:\n",
        "        road5 = ''\n",
        "        text = text\n",
        "\n",
        "    # 號\n",
        "    if re.search(r'\\w+[號]',text) is not None :\n",
        "        no1 = re.split(r'[號]', text, maxsplit=0, flags=0)[0]+'號'\n",
        "        text = re.split(r'[號]', text, maxsplit=0, flags=0)[1]\n",
        "    else:\n",
        "        no1 = ''\n",
        "        text = text\n",
        "\n",
        "    # 樓\n",
        "    if re.search(r'\\w+[樓]',text) is not None :\n",
        "        no2 = re.split(r'[樓]', text, maxsplit=0, flags=0)[0]+'樓'\n",
        "        text = re.split(r'[樓]', text, maxsplit=0, flags=0)[1]\n",
        "    else:\n",
        "        no2 = ''\n",
        "        text = text\n",
        "\n",
        "    # 室\n",
        "    if re.search(r'\\w+[室]',text) is not None :\n",
        "        no3 = re.split(r'[室]', text, maxsplit=0, flags=0)[0]+'室'\n",
        "        text = re.split(r'[室]', text, maxsplit=0, flags=0)[1]\n",
        "    else:\n",
        "        no3 = ''\n",
        "        text = text\n",
        "    \n",
        "    AddressPool.append(pd.DataFrame([{'city':city, 'district':district, 'country':country, 'block':block,\n",
        "                                      'road1':road1, 'road2':road2, 'road3':road3, 'road4':road4,'road5':road5,\n",
        "                                      'no1':no1, 'no2':no2, 'no3':no3}]))\n",
        "  print('There are {} IPs in Pool'.format(len(AddressPool)))\n",
        "  AddressPool = pd.concat(AddressPool, ignore_index=True)\n",
        "  AddressPool\n",
        "  data['city'] =  AddressPool['city']\n",
        "  data['district'] =  AddressPool['district']\n",
        "  data['country'] =  AddressPool['country']\n",
        "  data['block'] =  AddressPool['block']\n",
        "  data['road1'] =  AddressPool['road1']\n",
        "  data['road2'] =  AddressPool['road2']\n",
        "  data['road3'] =  AddressPool['road3']\n",
        "  data['road4'] =  AddressPool['road4']\n",
        "  data['road5'] =  AddressPool['road5']\n",
        "  data['no1'] =  AddressPool['no1']\n",
        "  data['no2'] =  AddressPool['no2']\n",
        "  data['no3'] =  AddressPool['no3']"
      ],
      "execution_count": 73,
      "outputs": []
    },
    {
      "cell_type": "code",
      "metadata": {
        "id": "DHq6Jra6ezmb"
      },
      "source": [
        "TEST = df1[[\"公司名稱\",\"住址\"]]"
      ],
      "execution_count": 81,
      "outputs": []
    },
    {
      "cell_type": "code",
      "metadata": {
        "colab": {
          "base_uri": "https://localhost:8080/"
        },
        "id": "wUBKtOubexIC",
        "outputId": "d0e18e4d-d7de-4918-83ca-ebceab4b96c3"
      },
      "source": [
        "address_re(TEST,\"住址\")"
      ],
      "execution_count": 83,
      "outputs": [
        {
          "output_type": "stream",
          "text": [
            "There are 961 IPs in Pool\n"
          ],
          "name": "stdout"
        },
        {
          "output_type": "stream",
          "text": [
            "/usr/local/lib/python3.6/dist-packages/ipykernel_launcher.py:131: SettingWithCopyWarning: \n",
            "A value is trying to be set on a copy of a slice from a DataFrame.\n",
            "Try using .loc[row_indexer,col_indexer] = value instead\n",
            "\n",
            "See the caveats in the documentation: https://pandas.pydata.org/pandas-docs/stable/user_guide/indexing.html#returning-a-view-versus-a-copy\n",
            "/usr/local/lib/python3.6/dist-packages/ipykernel_launcher.py:132: SettingWithCopyWarning: \n",
            "A value is trying to be set on a copy of a slice from a DataFrame.\n",
            "Try using .loc[row_indexer,col_indexer] = value instead\n",
            "\n",
            "See the caveats in the documentation: https://pandas.pydata.org/pandas-docs/stable/user_guide/indexing.html#returning-a-view-versus-a-copy\n",
            "/usr/local/lib/python3.6/dist-packages/ipykernel_launcher.py:133: SettingWithCopyWarning: \n",
            "A value is trying to be set on a copy of a slice from a DataFrame.\n",
            "Try using .loc[row_indexer,col_indexer] = value instead\n",
            "\n",
            "See the caveats in the documentation: https://pandas.pydata.org/pandas-docs/stable/user_guide/indexing.html#returning-a-view-versus-a-copy\n",
            "/usr/local/lib/python3.6/dist-packages/ipykernel_launcher.py:134: SettingWithCopyWarning: \n",
            "A value is trying to be set on a copy of a slice from a DataFrame.\n",
            "Try using .loc[row_indexer,col_indexer] = value instead\n",
            "\n",
            "See the caveats in the documentation: https://pandas.pydata.org/pandas-docs/stable/user_guide/indexing.html#returning-a-view-versus-a-copy\n",
            "/usr/local/lib/python3.6/dist-packages/ipykernel_launcher.py:135: SettingWithCopyWarning: \n",
            "A value is trying to be set on a copy of a slice from a DataFrame.\n",
            "Try using .loc[row_indexer,col_indexer] = value instead\n",
            "\n",
            "See the caveats in the documentation: https://pandas.pydata.org/pandas-docs/stable/user_guide/indexing.html#returning-a-view-versus-a-copy\n",
            "/usr/local/lib/python3.6/dist-packages/ipykernel_launcher.py:136: SettingWithCopyWarning: \n",
            "A value is trying to be set on a copy of a slice from a DataFrame.\n",
            "Try using .loc[row_indexer,col_indexer] = value instead\n",
            "\n",
            "See the caveats in the documentation: https://pandas.pydata.org/pandas-docs/stable/user_guide/indexing.html#returning-a-view-versus-a-copy\n",
            "/usr/local/lib/python3.6/dist-packages/ipykernel_launcher.py:137: SettingWithCopyWarning: \n",
            "A value is trying to be set on a copy of a slice from a DataFrame.\n",
            "Try using .loc[row_indexer,col_indexer] = value instead\n",
            "\n",
            "See the caveats in the documentation: https://pandas.pydata.org/pandas-docs/stable/user_guide/indexing.html#returning-a-view-versus-a-copy\n",
            "/usr/local/lib/python3.6/dist-packages/ipykernel_launcher.py:138: SettingWithCopyWarning: \n",
            "A value is trying to be set on a copy of a slice from a DataFrame.\n",
            "Try using .loc[row_indexer,col_indexer] = value instead\n",
            "\n",
            "See the caveats in the documentation: https://pandas.pydata.org/pandas-docs/stable/user_guide/indexing.html#returning-a-view-versus-a-copy\n",
            "/usr/local/lib/python3.6/dist-packages/ipykernel_launcher.py:139: SettingWithCopyWarning: \n",
            "A value is trying to be set on a copy of a slice from a DataFrame.\n",
            "Try using .loc[row_indexer,col_indexer] = value instead\n",
            "\n",
            "See the caveats in the documentation: https://pandas.pydata.org/pandas-docs/stable/user_guide/indexing.html#returning-a-view-versus-a-copy\n",
            "/usr/local/lib/python3.6/dist-packages/ipykernel_launcher.py:140: SettingWithCopyWarning: \n",
            "A value is trying to be set on a copy of a slice from a DataFrame.\n",
            "Try using .loc[row_indexer,col_indexer] = value instead\n",
            "\n",
            "See the caveats in the documentation: https://pandas.pydata.org/pandas-docs/stable/user_guide/indexing.html#returning-a-view-versus-a-copy\n",
            "/usr/local/lib/python3.6/dist-packages/ipykernel_launcher.py:141: SettingWithCopyWarning: \n",
            "A value is trying to be set on a copy of a slice from a DataFrame.\n",
            "Try using .loc[row_indexer,col_indexer] = value instead\n",
            "\n",
            "See the caveats in the documentation: https://pandas.pydata.org/pandas-docs/stable/user_guide/indexing.html#returning-a-view-versus-a-copy\n",
            "/usr/local/lib/python3.6/dist-packages/ipykernel_launcher.py:142: SettingWithCopyWarning: \n",
            "A value is trying to be set on a copy of a slice from a DataFrame.\n",
            "Try using .loc[row_indexer,col_indexer] = value instead\n",
            "\n",
            "See the caveats in the documentation: https://pandas.pydata.org/pandas-docs/stable/user_guide/indexing.html#returning-a-view-versus-a-copy\n"
          ],
          "name": "stderr"
        }
      ]
    },
    {
      "cell_type": "code",
      "metadata": {
        "colab": {
          "base_uri": "https://localhost:8080/",
          "height": 589
        },
        "id": "xw7uVACIgB7N",
        "outputId": "86321293-7c82-49d0-cfdf-c3019b6bcc88"
      },
      "source": [
        "TEST.drop(['公司名稱'], axis = 1)"
      ],
      "execution_count": 90,
      "outputs": [
        {
          "output_type": "execute_result",
          "data": {
            "text/html": [
              "<div>\n",
              "<style scoped>\n",
              "    .dataframe tbody tr th:only-of-type {\n",
              "        vertical-align: middle;\n",
              "    }\n",
              "\n",
              "    .dataframe tbody tr th {\n",
              "        vertical-align: top;\n",
              "    }\n",
              "\n",
              "    .dataframe thead th {\n",
              "        text-align: right;\n",
              "    }\n",
              "</style>\n",
              "<table border=\"1\" class=\"dataframe\">\n",
              "  <thead>\n",
              "    <tr style=\"text-align: right;\">\n",
              "      <th></th>\n",
              "      <th>住址</th>\n",
              "      <th>city</th>\n",
              "      <th>district</th>\n",
              "      <th>country</th>\n",
              "      <th>block</th>\n",
              "      <th>road1</th>\n",
              "      <th>road2</th>\n",
              "      <th>road3</th>\n",
              "      <th>road4</th>\n",
              "      <th>road5</th>\n",
              "      <th>no1</th>\n",
              "      <th>no2</th>\n",
              "      <th>no3</th>\n",
              "    </tr>\n",
              "  </thead>\n",
              "  <tbody>\n",
              "    <tr>\n",
              "      <th>0</th>\n",
              "      <td>台北市中山北路2段113號</td>\n",
              "      <td>台北市</td>\n",
              "      <td></td>\n",
              "      <td></td>\n",
              "      <td></td>\n",
              "      <td>中山北路</td>\n",
              "      <td>2段</td>\n",
              "      <td></td>\n",
              "      <td></td>\n",
              "      <td></td>\n",
              "      <td>113號</td>\n",
              "      <td></td>\n",
              "      <td></td>\n",
              "    </tr>\n",
              "    <tr>\n",
              "      <th>1</th>\n",
              "      <td>台北市大安區敦化南路2段207號30、31樓</td>\n",
              "      <td>台北市</td>\n",
              "      <td>大安區</td>\n",
              "      <td></td>\n",
              "      <td></td>\n",
              "      <td>敦化南路</td>\n",
              "      <td>2段</td>\n",
              "      <td></td>\n",
              "      <td></td>\n",
              "      <td></td>\n",
              "      <td>207號</td>\n",
              "      <td>30、31樓</td>\n",
              "      <td></td>\n",
              "    </tr>\n",
              "    <tr>\n",
              "      <th>2</th>\n",
              "      <td>台北市中山北路2段96號</td>\n",
              "      <td>台北市</td>\n",
              "      <td></td>\n",
              "      <td></td>\n",
              "      <td></td>\n",
              "      <td>中山北路</td>\n",
              "      <td>2段</td>\n",
              "      <td></td>\n",
              "      <td></td>\n",
              "      <td></td>\n",
              "      <td>96號</td>\n",
              "      <td></td>\n",
              "      <td></td>\n",
              "    </tr>\n",
              "    <tr>\n",
              "      <th>3</th>\n",
              "      <td>台北市南京東路二段125號10樓</td>\n",
              "      <td>台北市</td>\n",
              "      <td></td>\n",
              "      <td></td>\n",
              "      <td></td>\n",
              "      <td>南京東路</td>\n",
              "      <td>二段</td>\n",
              "      <td></td>\n",
              "      <td></td>\n",
              "      <td></td>\n",
              "      <td>125號</td>\n",
              "      <td>10樓</td>\n",
              "      <td></td>\n",
              "    </tr>\n",
              "    <tr>\n",
              "      <th>4</th>\n",
              "      <td>台北市松江路237號15樓</td>\n",
              "      <td>台北市</td>\n",
              "      <td></td>\n",
              "      <td></td>\n",
              "      <td></td>\n",
              "      <td>松江路</td>\n",
              "      <td></td>\n",
              "      <td></td>\n",
              "      <td></td>\n",
              "      <td></td>\n",
              "      <td>237號</td>\n",
              "      <td>15樓</td>\n",
              "      <td></td>\n",
              "    </tr>\n",
              "    <tr>\n",
              "      <th>...</th>\n",
              "      <td>...</td>\n",
              "      <td>...</td>\n",
              "      <td>...</td>\n",
              "      <td>...</td>\n",
              "      <td>...</td>\n",
              "      <td>...</td>\n",
              "      <td>...</td>\n",
              "      <td>...</td>\n",
              "      <td>...</td>\n",
              "      <td>...</td>\n",
              "      <td>...</td>\n",
              "      <td>...</td>\n",
              "      <td>...</td>\n",
              "    </tr>\n",
              "    <tr>\n",
              "      <th>956</th>\n",
              "      <td>桃園市八德區聯華街41號</td>\n",
              "      <td>桃園市</td>\n",
              "      <td>八德區</td>\n",
              "      <td></td>\n",
              "      <td></td>\n",
              "      <td>聯華街</td>\n",
              "      <td></td>\n",
              "      <td></td>\n",
              "      <td></td>\n",
              "      <td></td>\n",
              "      <td>41號</td>\n",
              "      <td></td>\n",
              "      <td></td>\n",
              "    </tr>\n",
              "    <tr>\n",
              "      <th>957</th>\n",
              "      <td>台北市八德路二段三０八號十一樓之一</td>\n",
              "      <td>台北市</td>\n",
              "      <td></td>\n",
              "      <td></td>\n",
              "      <td></td>\n",
              "      <td>八德路</td>\n",
              "      <td>二段</td>\n",
              "      <td></td>\n",
              "      <td></td>\n",
              "      <td></td>\n",
              "      <td>三０八號</td>\n",
              "      <td>十一樓</td>\n",
              "      <td></td>\n",
              "    </tr>\n",
              "    <tr>\n",
              "      <th>958</th>\n",
              "      <td>台北市松山區八德路3段30號12樓</td>\n",
              "      <td>台北市</td>\n",
              "      <td>松山區</td>\n",
              "      <td></td>\n",
              "      <td></td>\n",
              "      <td>八德路</td>\n",
              "      <td>3段</td>\n",
              "      <td></td>\n",
              "      <td></td>\n",
              "      <td></td>\n",
              "      <td>30號</td>\n",
              "      <td>12樓</td>\n",
              "      <td></td>\n",
              "    </tr>\n",
              "    <tr>\n",
              "      <th>959</th>\n",
              "      <td>桃園市觀音區大潭里一鄰環科路323號</td>\n",
              "      <td>桃園市</td>\n",
              "      <td>觀音區</td>\n",
              "      <td></td>\n",
              "      <td>大潭里一鄰</td>\n",
              "      <td>環科路</td>\n",
              "      <td></td>\n",
              "      <td></td>\n",
              "      <td></td>\n",
              "      <td></td>\n",
              "      <td>323號</td>\n",
              "      <td></td>\n",
              "      <td></td>\n",
              "    </tr>\n",
              "    <tr>\n",
              "      <th>960</th>\n",
              "      <td>桃園市觀音區中山路一段1119號</td>\n",
              "      <td>桃園市</td>\n",
              "      <td>觀音區</td>\n",
              "      <td></td>\n",
              "      <td></td>\n",
              "      <td>中山路</td>\n",
              "      <td>一段</td>\n",
              "      <td></td>\n",
              "      <td></td>\n",
              "      <td></td>\n",
              "      <td>1119號</td>\n",
              "      <td></td>\n",
              "      <td></td>\n",
              "    </tr>\n",
              "  </tbody>\n",
              "</table>\n",
              "<p>961 rows × 13 columns</p>\n",
              "</div>"
            ],
            "text/plain": [
              "                         住址 city district country  ... road5    no1     no2 no3\n",
              "0             台北市中山北路2段113號  台北市                   ...         113號            \n",
              "1    台北市大安區敦化南路2段207號30、31樓  台北市      大安區          ...         207號  30、31樓    \n",
              "2              台北市中山北路2段96號  台北市                   ...          96號            \n",
              "3          台北市南京東路二段125號10樓  台北市                   ...         125號     10樓    \n",
              "4             台北市松江路237號15樓  台北市                   ...         237號     15樓    \n",
              "..                      ...  ...      ...     ...  ...   ...    ...     ...  ..\n",
              "956            桃園市八德區聯華街41號  桃園市      八德區          ...          41號            \n",
              "957       台北市八德路二段三０八號十一樓之一  台北市                   ...         三０八號     十一樓    \n",
              "958       台北市松山區八德路3段30號12樓  台北市      松山區          ...          30號     12樓    \n",
              "959      桃園市觀音區大潭里一鄰環科路323號  桃園市      觀音區          ...         323號            \n",
              "960        桃園市觀音區中山路一段1119號  桃園市      觀音區          ...        1119號            \n",
              "\n",
              "[961 rows x 13 columns]"
            ]
          },
          "metadata": {
            "tags": []
          },
          "execution_count": 90
        }
      ]
    }
  ]
}